{
 "cells": [
  {
   "cell_type": "code",
   "execution_count": 1,
   "id": "921a2179",
   "metadata": {},
   "outputs": [
    {
     "name": "stdout",
     "output_type": "stream",
     "text": [
      "Saved processed data to ..\\..\\data\\processed\\cleaned_messages.csv\n"
     ]
    },
    {
     "name": "stderr",
     "output_type": "stream",
     "text": [
      "C:\\Users\\gagur\\AppData\\Local\\Temp\\ipykernel_19252\\3700847838.py:16: MarkupResemblesLocatorWarning: The input passed in on this line looks more like a URL than HTML or XML.\n",
      "\n",
      "If you meant to use Beautiful Soup to parse the web page found at a certain URL, then something has gone wrong. You should use an Python package like 'requests' to fetch the content behind the URL. Once you have the content as a string, you can feed that string into Beautiful Soup.\n",
      "\n",
      "However, if you want to parse some data that happens to look like a URL, then nothing has gone wrong: you are using Beautiful Soup correctly, and this warning is spurious and can be filtered. To make this warning go away, run this code before calling the BeautifulSoup constructor:\n",
      "\n",
      "    from bs4 import MarkupResemblesLocatorWarning\n",
      "    import warnings\n",
      "\n",
      "    warnings.filterwarnings(\"ignore\", category=MarkupResemblesLocatorWarning)\n",
      "    \n",
      "  text = BeautifulSoup(text, 'html.parser').get_text()\n"
     ]
    }
   ],
   "source": [
    "import re\n",
    "import pandas as pd\n",
    "from bs4 import BeautifulSoup\n",
    "import os\n",
    "\n",
    "class AmharicTextCleaner:\n",
    "    def __init__(self):\n",
    "        self.amharic_range = r'[\\u1200-\\u137F]'\n",
    "        \n",
    "    def clean_text(self, text):\n",
    "        \"\"\"Basic cleaning for Amharic text\"\"\"\n",
    "        if pd.isna(text):\n",
    "            return \"\"\n",
    "            \n",
    "        # Remove HTML tags\n",
    "        text = BeautifulSoup(text, 'html.parser').get_text()\n",
    "        \n",
    "        # Normalize spaces\n",
    "        text = re.sub(r'\\s+', ' ', text).strip()\n",
    "        \n",
    "        # Remove URLs\n",
    "        text = re.sub(r'http\\S+|www\\S+|https\\S+', '', text)\n",
    "        \n",
    "        # Remove special characters except Amharic and basic punctuation\n",
    "        text = re.sub(r'[^\\w\\s\\u1200-\\u137F.,!?]', '', text)\n",
    "        \n",
    "        return text\n",
    "    \n",
    "    def extract_amharic(self, text):\n",
    "        \"\"\"Extract only Amharic text segments\"\"\"\n",
    "        matches = re.findall(r'[\\u1200-\\u137F]+(?:\\s+[\\u1200-\\u137F]+)*', text)\n",
    "        return ' '.join(matches).strip()\n",
    "    \n",
    "    def process_dataframe(self, df):\n",
    "        \"\"\"Process entire dataframe\"\"\"\n",
    "        # Clean text\n",
    "        df['clean_text'] = df['text'].apply(self.clean_text)\n",
    "        \n",
    "        # Extract Amharic text\n",
    "        df['amharic_text'] = df['clean_text'].apply(self.extract_amharic)\n",
    "        \n",
    "        # Filter empty messages\n",
    "        df = df[df['amharic_text'].str.len() > 0].copy()\n",
    "        \n",
    "        return df\n",
    "\n",
    "def run_preprocessing():\n",
    "    # Paths\n",
    "    raw_path = os.path.join('..', '..', 'data', 'raw', 'telegram_messages.csv')\n",
    "    processed_path = os.path.join('..', '..', 'data', 'processed', 'cleaned_messages.csv')\n",
    "    \n",
    "    # Create processed directory if not exists\n",
    "    os.makedirs(os.path.dirname(processed_path), exist_ok=True)\n",
    "    \n",
    "    # Load and process data\n",
    "    cleaner = AmharicTextCleaner()\n",
    "    df = pd.read_csv(raw_path)\n",
    "    processed_df = cleaner.process_dataframe(df)\n",
    "    \n",
    "    # Save processed data\n",
    "    processed_df.to_csv(processed_path, index=False)\n",
    "    print(f\"Saved processed data to {processed_path}\")\n",
    "    return processed_df\n",
    "\n",
    "if __name__ == \"__main__\":\n",
    "    run_preprocessing()"
   ]
  }
 ],
 "metadata": {
  "kernelspec": {
   "display_name": "env",
   "language": "python",
   "name": "python3"
  },
  "language_info": {
   "codemirror_mode": {
    "name": "ipython",
    "version": 3
   },
   "file_extension": ".py",
   "mimetype": "text/x-python",
   "name": "python",
   "nbconvert_exporter": "python",
   "pygments_lexer": "ipython3",
   "version": "3.12.10"
  }
 },
 "nbformat": 4,
 "nbformat_minor": 5
}
